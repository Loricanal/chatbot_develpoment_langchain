{
  "nbformat": 4,
  "nbformat_minor": 0,
  "metadata": {
    "colab": {
      "provenance": []
    },
    "kernelspec": {
      "name": "python3",
      "display_name": "Python 3"
    },
    "language_info": {
      "name": "python"
    }
  },
  "cells": [
    {
      "cell_type": "markdown",
      "source": [
        "# Fase 3: Scelta della configurazione migliore del Chatbot (da svolgere entro Domenica 3 Dicembre)\n",
        "\n",
        "L'obiettivo di questo laboratorio è valutare il Chatbot creato nel laboratorio precedente variando il metodo di calcolo degli embedding (quindi l'embedding model) e il large language model scelto per creare la risposta.\n",
        "In particolare DOVRETE:\n",
        "- TESTARE 3 EMBEDDING MODELS DIFFERENTI\n",
        "- TESTARE 3 LARGE LANGUAGE MODELS DIFFERENTI\n",
        "- PER OGNUNA DELLE 9 PERMUTAZIONI DETERMINARE, PER OGNUNA DELLE DOMANDE: 1) IL TEMPO DI RISPOSTA DEL CHATBOT; 2) SE IL RETRIEVAL FUNZIONA CORRETTAMENTE, OVVERO SE VENGONO RECUPERATI DAL CHATBOT I DOCUMENTI UTILI PER RISPONDERE ALLA DOMANDA; 3) SE IL LARGE LANGUAGE MODEL PRDUCE UNA RISPOSTA CORRETTA DATI I DOCUMENTI RECUPERATI DISTINGUENDO (A) IL SENSO DELLA RISPOSTA (UNA PERSONA CAPIREBBE IL SENSO?) (B) LA SINTASSI E LA GRAMMATICA (SONO PRESENTI ERRORI GRAMMATICALI?);\n",
        "- I RISULTATI DI OGNUNA DELLE PRECEDENTI CONFIGURAZIONI DOVRANNO ESSERE SALVATI IN UN FILE CSV CON LE SEGUENTI COLONNE: *domanda, risposta, embedding_model, llm_model, response_time, retrieval_effectivness, llm_semantic_effectivness, llm_syntax_grammar_effectivness*. Le colonne *domanda, risposta, embedding_model, llm_model* devono essere campi testuali (stringhe) mentre le colonne *response_time, retrieval_effectivness, llm_semantic_effectivness, llm_syntax_grammar_effectivness* devono essere interi; in particolare il tempo in millisecondi per *response_time* e valori 0/1 per le altre colonne dove 0 indica \"no\" ed 1 \"sì\". IL CSV DEVE ESSERE NOMINATO \"performance_evaluation.csv\" E DEVE ESSERE UNO SOLO. POTETE TESTARE CHE IL VOSTRO CSV SIA FORMATTATO CORRETTAMENTE UTILIZZANDO LA CELLA DI CODICE SOTTO IL TITOLO \"Test your csv\" PRESENTE NEL NOTEBOOK.\n",
        "- INDICARE LA CONFIGURAZIONE MIGLIORE SCELTA SPECIFICANDO EMBEDDING MODEL E LARGE LANGUAGE MODEL.\n",
        "- RISPONDERE INFINE AD OGNUNA DELLE DOMANDE AL FONDO DEL NOTEBOOK.\n",
        "\n",
        "\n",
        "NON PREOCCUPATEVI SE IL CHATBOT DA RISULTATI DELUTENTI, L'IMPORTANTE È SVOLGERE UNA VALUTAZIONE RIGOROSA E SINCERA.\n",
        "\n",
        "**PER LA CONSEGNA, SCARICARE IL NOTEBOOK COMPLETO (AVENDO RISPOSTO ALLE DOMANDE IN FONDO) E IL CSV performance_evaluation.csv\"  E AGGIUNGERE AGLI ELEBORATI LO ZIP COME NEI LABORATORI PRECEDENTI.**\n",
        "\n",
        "\n"
      ],
      "metadata": {
        "id": "jFkakqlB8etE"
      }
    },
    {
      "cell_type": "markdown",
      "source": [
        "## Your code"
      ],
      "metadata": {
        "id": "YrPbo7HuxTq5"
      }
    },
    {
      "cell_type": "code",
      "source": [
        "# INSERT YOUR CODE HERE"
      ],
      "metadata": {
        "id": "FHyX0B5RxMN7"
      },
      "execution_count": null,
      "outputs": []
    },
    {
      "cell_type": "markdown",
      "source": [
        "## Test your CSV"
      ],
      "metadata": {
        "id": "q8jFbPQQv8ON"
      }
    },
    {
      "cell_type": "code",
      "source": [
        "import numpy as np\n",
        "import pandas as pd\n",
        "import os\n",
        "\n",
        "def test_your_csv(csv_path: str):\n",
        "  ### Help\n",
        "  # args:\n",
        "  # csv_path: percorso del file csv da controllare.\n",
        "\n",
        "  # Check if path exists and is a csv file\n",
        "  if not os.path.exists(csv_path):\n",
        "    raise FileNotFoundError(f\"file path {csv_path} does not exists\")\n",
        "  if not os.path.isfile(csv_path) or not csv_path.endswith('.csv'):\n",
        "    raise FileNotFoundError(f\"file path {csv_path} is not a csv file\")\n",
        "  df = pd.read_csv(csv_path)\n",
        "\n",
        "  # Check if number and names of columns is correct\n",
        "  exp_col_names = [\"domanda\", \"risposta\", \"embedding_model\", \"llm_model\",\\\n",
        "                   \"response_time\", \"retrieval_effectivness\", \"llm_semantic_effectivness\", \\\n",
        "                   \"llm_syntax_grammar_effectivness\"]\n",
        "  df_columns = df.columns.tolist()\n",
        "  if len(df_columns) != len(exp_col_names):\n",
        "    print(\"Warning: Number of columns is incorrect\")\n",
        "    return False\n",
        "  else:\n",
        "    print(\"Correct number of columns\")\n",
        "\n",
        "  if any(df_columns[i] != exp_col_names[i] for i in range(len(df_columns))):\n",
        "    print(\"Warning: Columns name does not match the correct names\")\n",
        "    print(df_columns)\n",
        "    print(exp_col_names)\n",
        "    return False\n",
        "  else:\n",
        "    print(\"Correct columns names\")\n",
        "\n",
        "  # Check if dtypes are correct\n",
        "  exp_dtypes = [object, object, object, object, \"int64\", \"int64\", \"int64\", \"int64\"]\n",
        "  df_dtypes = df.dtypes\n",
        "  if any(df[exp_col_names[i]].dtypes != exp_dtypes[i] for i in range(len(exp_dtypes[:6]))):\n",
        "    print(\"Warning: Columns dtype does not match the correct dtypes \\n\")\n",
        "    print(df_dtypes[-1])\n",
        "    print(exp_dtypes)\n",
        "    return False\n",
        "  else:\n",
        "    print(\"Correct columns dtypes\")\n",
        "\n",
        "  # Check if last 3 columns are binary\n",
        "  for name in exp_col_names[-3:]:\n",
        "    if any(x not in {0,1} for x in df[name]):\n",
        "      print(f\"Warning: Column {name} contains non binary values\")\n",
        "      return False\n",
        "  print(\"Binary columns are correct\")\n",
        "  return True\n"
      ],
      "metadata": {
        "id": "MXqsAONGwFJn"
      },
      "execution_count": null,
      "outputs": []
    },
    {
      "cell_type": "markdown",
      "source": [
        "## Domande"
      ],
      "metadata": {
        "id": "Mp-FpPtLuzix"
      }
    },
    {
      "cell_type": "markdown",
      "source": [
        "**Q1) Quali sono le difficoltà maggiori che hai riscontrato nella creazione del ChatBot?**"
      ],
      "metadata": {
        "id": "bDQ2rgrZid6F"
      }
    },
    {
      "cell_type": "markdown",
      "source": [
        "R1) ..."
      ],
      "metadata": {
        "id": "vViXF9xNs_3e"
      }
    },
    {
      "cell_type": "markdown",
      "source": [
        "**Q2) Quali sono i principali problemi riscontrati nella fase di caricamento dei documenti, e come li hai risolti? (Ad esempio: ho scelto altri documenti, ho cambiato parser, etc.)**"
      ],
      "metadata": {
        "id": "AmcekjYzipLO"
      }
    },
    {
      "cell_type": "markdown",
      "source": [
        "R2) ..."
      ],
      "metadata": {
        "id": "AeLSs1UdtD7C"
      }
    },
    {
      "cell_type": "markdown",
      "source": [
        "**Q3) Quali sono i principali problemi riscontrati nella fase di splitting dei documenti, e come li hai risolti? (Ad esempio: i segmenti erano troppo lunghi, per cui ho deciso di ...)**"
      ],
      "metadata": {
        "id": "39AczTIBi-Xn"
      }
    },
    {
      "cell_type": "markdown",
      "source": [
        "R3) ..."
      ],
      "metadata": {
        "id": "zoflYqaztFcL"
      }
    },
    {
      "cell_type": "markdown",
      "source": [
        "**Q4) I documenti in che lingua erano? Hai dovuto tradurli in inglese? Se sì, come hai eseguito la traduzione? E perchè li hai tradotti?**"
      ],
      "metadata": {
        "id": "dLU_7zCjjtD2"
      }
    },
    {
      "cell_type": "markdown",
      "source": [
        "R4) ..."
      ],
      "metadata": {
        "id": "LAygi_PZtHUu"
      }
    },
    {
      "cell_type": "markdown",
      "source": [
        "**Q5) Quali embedding models hai testato? Spiega la logica con cui hai scelto il migliore.**"
      ],
      "metadata": {
        "id": "wSOpCV8Binas"
      }
    },
    {
      "cell_type": "markdown",
      "source": [
        "R5) ..."
      ],
      "metadata": {
        "id": "YgR23zPHtI4F"
      }
    },
    {
      "cell_type": "markdown",
      "source": [
        "**Q6) Quali large language models hai testato? Spiega la logica con cui hai scelto il migliore.**\n",
        "\n",
        "\n"
      ],
      "metadata": {
        "id": "hFncV_vukEfr"
      }
    },
    {
      "cell_type": "markdown",
      "source": [
        "R6) ..."
      ],
      "metadata": {
        "id": "JBNpp08KtL1L"
      }
    },
    {
      "cell_type": "markdown",
      "source": [
        "**Q7) Che risultati ti aspettavi di ottenere all'inizio dei laboratori?**"
      ],
      "metadata": {
        "id": "UsGPJBnnl4sy"
      }
    },
    {
      "cell_type": "markdown",
      "source": [
        "R7) ..."
      ],
      "metadata": {
        "id": "42qjuugvtNAD"
      }
    },
    {
      "cell_type": "markdown",
      "source": [
        "**Q8) Che risultati avete effettivamente ottenuto?**"
      ],
      "metadata": {
        "id": "D-bBB0bxsRwi"
      }
    },
    {
      "cell_type": "markdown",
      "source": [
        "R8) ..."
      ],
      "metadata": {
        "id": "3SPHeItKtOST"
      }
    },
    {
      "cell_type": "markdown",
      "source": [
        "**Q9) Pensi che il tuo Chatbot potrebbe essere realmente utilizzato? Le risposte sono affidabili?**"
      ],
      "metadata": {
        "id": "_G3tAO5zsexF"
      }
    },
    {
      "cell_type": "markdown",
      "source": [
        "R9) ..."
      ],
      "metadata": {
        "id": "ITCrADyqtPll"
      }
    },
    {
      "cell_type": "markdown",
      "source": [
        "**Q10) Aggiungete ulteriori commenti e curiosità sul lavoro svolto, oltre che a dubbi e critiche sul design dei laboratori sul Chatbot.**"
      ],
      "metadata": {
        "id": "mTmRKBCYsr6L"
      }
    },
    {
      "cell_type": "markdown",
      "source": [
        "R10) ..."
      ],
      "metadata": {
        "id": "BNK31GzjtQzQ"
      }
    }
  ]
}