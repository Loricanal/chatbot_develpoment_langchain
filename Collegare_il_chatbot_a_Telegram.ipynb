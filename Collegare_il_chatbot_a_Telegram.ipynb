{
  "nbformat": 4,
  "nbformat_minor": 0,
  "metadata": {
    "colab": {
      "provenance": []
    },
    "kernelspec": {
      "name": "python3",
      "display_name": "Python 3"
    },
    "language_info": {
      "name": "python"
    }
  },
  "cells": [
    {
      "cell_type": "markdown",
      "source": [
        "# Collegare il chatbot a Telegram\n",
        "\n",
        "L'obiettivo di questa esercitazione è collegare la configurazione migliore del vostro chatbot al bot Telegram in modo tale che risponda alle domande di un utente. Per qualche spunto (seppure parziale e non completamente corretto) potete guardare qui: https://chat.openai.com/share/c88e064a-4f9b-4038-89dc-4d40be42c74d\n",
        "\n",
        "\n",
        "Un suggerimento: usate questa versione della libreria => **python-telegram-bot==13.13**"
      ],
      "metadata": {
        "id": "0IBinln53jg8"
      }
    }
  ]
}